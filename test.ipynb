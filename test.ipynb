{
 "cells": [
  {
   "cell_type": "code",
   "execution_count": 3,
   "source": [
    "import numpy as np\r\n",
    "import pandas as pd"
   ],
   "outputs": [],
   "metadata": {}
  },
  {
   "cell_type": "code",
   "execution_count": 25,
   "source": [
    "nc = 18\r\n",
    "matrix = np.zeros((nc+1,nc+1))\r\n",
    "j = 0\r\n",
    "with open(\"data.txt\",\"r\") as f:\r\n",
    "    while True:\r\n",
    "        line = f.readline()\r\n",
    "        if not line:\r\n",
    "            break\r\n",
    "        row = line.split(\"\\n\")[0].split(\" \")\r\n",
    "        for i in range(nc + 1):\r\n",
    "            matrix[j][i] = row[i].split(\".\")[0]\r\n",
    "        j = j + 1\r\n",
    "print(matrix)"
   ],
   "outputs": [
    {
     "output_type": "stream",
     "name": "stdout",
     "text": [
      "957.0\n"
     ]
    }
   ],
   "metadata": {}
  },
  {
   "cell_type": "code",
   "execution_count": 31,
   "source": [
    "classes = ['嗜中性-带形核', '中幼红细胞', '嗜中性-中幼粒细胞', '嗜中性-晚幼粒细胞', '嗜中性-分叶核', '原始细胞', '嗜酸', '晚幼红细胞', '早幼粒细胞', \r\n",
    "'成熟淋巴细胞', '单核细胞', '原红细胞', '浆细胞', '早幼红细胞', '嗜碱', '异常淋巴细胞', '粒细胞系统-嗜中性-核浆发育失衡', '幼淋巴细胞']\r\n",
    "mydic = {}\r\n",
    "for i in range(nc - 3):\r\n",
    "    mydic[classes[i]] = matrix[:,i]\r\n",
    "mydic[\"FN\"] = matrix[:,-1]\r\n",
    "df = pd.DataFrame(mydic)\r\n",
    "df.to_csv(\"cell.csv\")\r\n",
    "print(mydic[classes[0]])"
   ],
   "outputs": [
    {
     "output_type": "stream",
     "name": "stdout",
     "text": [
      "[957.   0.   3.  76.  89.   0.   0.   0.   0.   0.   0.   0.   0.   0.\n",
      "   0.   0.   0.   0.   2.]\n"
     ]
    }
   ],
   "metadata": {}
  },
  {
   "cell_type": "code",
   "execution_count": 32,
   "source": [
    "for cls in classes:\r\n",
    "    print(cls)"
   ],
   "outputs": [
    {
     "output_type": "stream",
     "name": "stdout",
     "text": [
      "嗜中性-带形核\n",
      "中幼红细胞\n",
      "嗜中性-中幼粒细胞\n",
      "嗜中性-晚幼粒细胞\n",
      "嗜中性-分叶核\n",
      "原始细胞\n",
      "嗜酸\n",
      "晚幼红细胞\n",
      "早幼粒细胞\n",
      "成熟淋巴细胞\n",
      "单核细胞\n",
      "原红细胞\n",
      "浆细胞\n",
      "早幼红细胞\n",
      "嗜碱\n",
      "异常淋巴细胞\n",
      "粒细胞系统-嗜中性-核浆发育失衡\n",
      "幼淋巴细胞\n"
     ]
    }
   ],
   "metadata": {}
  }
 ],
 "metadata": {
  "orig_nbformat": 4,
  "language_info": {
   "name": "python",
   "version": "3.8.5",
   "mimetype": "text/x-python",
   "codemirror_mode": {
    "name": "ipython",
    "version": 3
   },
   "pygments_lexer": "ipython3",
   "nbconvert_exporter": "python",
   "file_extension": ".py"
  },
  "kernelspec": {
   "name": "python3",
   "display_name": "Python 3.8.5 64-bit ('base': conda)"
  },
  "interpreter": {
   "hash": "5053848f1e1ce6d9c67b4d0af35009a6322e9959d1af6f676e18003e4a846f54"
  }
 },
 "nbformat": 4,
 "nbformat_minor": 2
}